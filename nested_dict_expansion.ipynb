{
 "cells": [
  {
   "cell_type": "code",
   "execution_count": 29,
   "id": "a0e5aea9-b1c8-4572-9228-14081a30c47f",
   "metadata": {},
   "outputs": [],
   "source": [
    "\"\"\"\n",
    "Data Assumptions\n",
    "1. each sub dictionary has two sub entries crash_rate and latency. It can have more, but it needs to have those\n",
    "2. there is same amount of items inside latency and crash_rate list\n",
    "\"\"\"\n",
    "SAMPLE_DATA = {\n",
    "    'explore_page': {'crash_rate': [1, 2, 3], 'latency': [100, 200, 300]},\n",
    "    'cart_page': {'crash_rate': [1, 2, 3], 'latency': [2, 3, 4]}\n",
    "}"
   ]
  },
  {
   "cell_type": "code",
   "execution_count": 30,
   "id": "96e8251c-27a1-43a1-b1b2-03bd313d4a9f",
   "metadata": {},
   "outputs": [
    {
     "name": "stdout",
     "output_type": "stream",
     "text": [
      "{'explore_page': [80.2, 160.4, 240.6], 'cart_page': [1.8, 2.8000000000000003, 3.8000000000000003]}\n"
     ]
    }
   ],
   "source": [
    "# This uses list comprehension and is generally faster but harder to read\n",
    "def compute_weighted_sum_simple_1(data):\n",
    "    weight_crash_rate = 0.2\n",
    "    weight_latency = 0.8\n",
    "    my_data = dict(data)\n",
    "    for page in my_data:\n",
    "        crash_rate = my_data[page]['crash_rate']\n",
    "        latency = my_data[page]['latency']\n",
    "        my_data[page] = [crash_rate[i] * weight_crash_rate + latency[i] * weight_latency for i in range(len(crash_rate))]\n",
    "\n",
    "    return my_data\n",
    "print(compute_weighted_sum_simple_1(SAMPLE_DATA))"
   ]
  },
  {
   "cell_type": "code",
   "execution_count": 27,
   "id": "cacc3f5e-756e-430f-a225-fc6162228ce0",
   "metadata": {},
   "outputs": [
    {
     "name": "stdout",
     "output_type": "stream",
     "text": [
      "{'explore_page': [80.2, 160.4, 240.6], 'cart_page': [1.8, 2.8000000000000003, 3.8000000000000003]}\n"
     ]
    }
   ],
   "source": [
    "# This just uses a double loop\n",
    "def compute_weighted_sum_simple_2(data):\n",
    "    weight_crash_rate = 0.2\n",
    "    weight_latency = 0.8\n",
    "    my_data = dict(data)\n",
    "\n",
    "    for page, metrics in my_data.items():\n",
    "        weighted_sum_list = []\n",
    "        for i in range(len(metrics['crash_rate'])):\n",
    "            weighted_sum = metrics['crash_rate'][i] * weight_crash_rate + metrics['latency'][i] * weight_latency\n",
    "            weighted_sum_list.append(weighted_sum)\n",
    "        my_data[page] = weighted_sum_list\n",
    "\n",
    "    return my_data\n",
    "print(compute_weighted_sum_simple_2(SAMPLE_DATA))"
   ]
  },
  {
   "cell_type": "code",
   "execution_count": null,
   "id": "37afb35a-4534-4ccc-a253-b9fae05852af",
   "metadata": {},
   "outputs": [],
   "source": []
  }
 ],
 "metadata": {
  "kernelspec": {
   "display_name": "Python 3 (ipykernel)",
   "language": "python",
   "name": "python3"
  },
  "language_info": {
   "codemirror_mode": {
    "name": "ipython",
    "version": 3
   },
   "file_extension": ".py",
   "mimetype": "text/x-python",
   "name": "python",
   "nbconvert_exporter": "python",
   "pygments_lexer": "ipython3",
   "version": "3.10.8"
  }
 },
 "nbformat": 4,
 "nbformat_minor": 5
}
